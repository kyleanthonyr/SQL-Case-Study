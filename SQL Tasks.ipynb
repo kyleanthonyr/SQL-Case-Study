{
 "cells": [
  {
   "cell_type": "code",
   "execution_count": 39,
   "id": "6db7d756",
   "metadata": {},
   "outputs": [],
   "source": [
    "import sqlite3\n",
    "from sqlite3 import Error"
   ]
  },
  {
   "cell_type": "code",
   "execution_count": 40,
   "id": "5910c35c",
   "metadata": {},
   "outputs": [],
   "source": [
    "database = \"sqlite_db_pythonsqlite.db\"\n",
    "\n",
    "# Create connection to local db\n",
    "conn = sqlite3.connect(database)\n",
    "\n",
    "# Cursor instance to query db\n",
    "cursor = conn.cursor()"
   ]
  },
  {
   "cell_type": "code",
   "execution_count": 41,
   "id": "a746b5e3",
   "metadata": {},
   "outputs": [],
   "source": [
    "# Test query to check if connection works"
   ]
  },
  {
   "cell_type": "code",
   "execution_count": 42,
   "id": "e2aaac55",
   "metadata": {},
   "outputs": [
    {
     "data": {
      "text/plain": [
       "[(0, 'Tennis Court 1', 5, 25, 10000, 200),\n",
       " (1, 'Tennis Court 2', 5, 25, 8000, 200),\n",
       " (2, 'Badminton Court', 0, 15.5, 4000, 50),\n",
       " (3, 'Table Tennis', 0, 5, 320, 10),\n",
       " (4, 'Massage Room 1', 9.9, 80, 4000, 3000),\n",
       " (5, 'Massage Room 2', 9.9, 80, 4000, 3000),\n",
       " (6, 'Squash Court', 3.5, 17.5, 5000, 80),\n",
       " (7, 'Snooker Table', 0, 5, 450, 15),\n",
       " (8, 'Pool Table', 0, 5, 400, 15)]"
      ]
     },
     "execution_count": 42,
     "metadata": {},
     "output_type": "execute_result"
    }
   ],
   "source": [
    "# Execute and query db\n",
    "hello_world_sql = \"\"\"\n",
    "    SELECT * \n",
    "    FROM FACILITIES\n",
    "    \"\"\"\n",
    "cursor.execute(hello_world_sql)\n",
    "result = cursor.fetchall()\n",
    "result"
   ]
  },
  {
   "cell_type": "markdown",
   "id": "7186a5ab",
   "metadata": {},
   "source": [
    "### Query 10"
   ]
  },
  {
   "cell_type": "code",
   "execution_count": 43,
   "id": "c807f842",
   "metadata": {},
   "outputs": [],
   "source": [
    "# Q10: Produce a list of facilities with a total revenue less than 1000.\n",
    "# The output of facility name and total revenue, sorted by revenue. Remember\n",
    "# that there's a different cost for guests and members!"
   ]
  },
  {
   "cell_type": "code",
   "execution_count": 47,
   "id": "b4cc3340",
   "metadata": {
    "scrolled": true
   },
   "outputs": [
    {
     "data": {
      "text/plain": [
       "[('Badminton Court', 604.5),\n",
       " ('Pool Table', 265),\n",
       " ('Snooker Table', 115),\n",
       " ('Table Tennis', 90)]"
      ]
     },
     "execution_count": 47,
     "metadata": {},
     "output_type": "execute_result"
    }
   ],
   "source": [
    "query_10 = \"\"\"\n",
    "SELECT facid, name, SUM(membercost * slots) AS member_revenue,\n",
    "FROM FACILITIES\n",
    "INNER JOIN BOOKINGS\n",
    "USING(facid)\n",
    "INNER JOIN MEMBERS\n",
    "USING(memid)\n",
    "WHERE member_revenue < 1000\n",
    "GROUP BY name\n",
    "ORDER BY facid;\n",
    "\"\"\"\n",
    "query_ten = \"\"\"\n",
    "    SELECT subq.name, SUM( sub.revenue ) AS revenue\n",
    "    FROM (\n",
    "    SELECT b.facid, b.memid, f.name, f.guestcost, f.membercost, COUNT( b.facid ) AS facid_count,\n",
    "    CASE\n",
    "    WHEN b.memid =0\n",
    "    THEN COUNT( b.facid ) * f.guestcost\n",
    "    ELSE COUNT( b.facid ) * f.membercost\n",
    "    END AS 'revenue'\n",
    "    FROM Bookings AS b\n",
    "    LEFT JOIN Facilities AS f ON b.facid = f.facid\n",
    "    GROUP BY b.facid, b.memid\n",
    "    ) AS subq\n",
    "    GROUP BY subq.facid\n",
    "    HAVING revenue <=1000\n",
    "    ORDER BY revenue DESC;\n",
    "\"\"\"\n",
    "cursor.execute(query_ten)\n",
    "total_revenue_data = cursor.fetchall()\n",
    "total_revenue_data"
   ]
  },
  {
   "cell_type": "markdown",
   "id": "b239f85e",
   "metadata": {},
   "source": [
    "### Query 11"
   ]
  },
  {
   "cell_type": "code",
   "execution_count": null,
   "id": "4ce69e9a",
   "metadata": {},
   "outputs": [],
   "source": [
    "# Q11: Produce a report of members and who recommended them in alphabetic surname,firstname order"
   ]
  },
  {
   "cell_type": "code",
   "execution_count": null,
   "id": "de16fbd7",
   "metadata": {},
   "outputs": [],
   "source": [
    "query_eleven = \"\"\"\n",
    "    SELECT r.recommendedby AS recommender_ID, (r.surname || \" \" || r.firstname) AS recommender, m.memid AS recommended_ID, (m.surname || \" \" || m.firstname) AS recommended\n",
    "    FROM MEMBERS AS m\n",
    "    LEFT JOIN MEMBERS AS r\n",
    "    ON m.recommendedby = r.memid\n",
    "    WHERE m.recommendedby != 0\n",
    "    ORDER BY recommender;\n",
    "\"\"\"\n",
    "cursor.execute(query_eleven)\n",
    "cursor.fetchall()"
   ]
  },
  {
   "cell_type": "markdown",
   "id": "8292c89e",
   "metadata": {},
   "source": [
    "### Query 12"
   ]
  },
  {
   "cell_type": "code",
   "execution_count": null,
   "id": "e0687e18",
   "metadata": {},
   "outputs": [],
   "source": [
    "# Q12: Find the facilities with their usage by member, but not guests"
   ]
  },
  {
   "cell_type": "code",
   "execution_count": null,
   "id": "3c76f8f1",
   "metadata": {},
   "outputs": [],
   "source": [
    "query_twelve = \"\"\"\n",
    "    SELECT b.facid, COUNT( b.memid ) AS mem_usage, f.name\n",
    "    FROM (\n",
    "    SELECT facid, memid\n",
    "    FROM Bookings\n",
    "    WHERE memid !=0\n",
    "    ) AS b\n",
    "    LEFT JOIN Facilities AS f ON b.facid = f.facid\n",
    "    GROUP BY b.facid;\n",
    "\"\"\"\n",
    "cursor.execute(query_twelve)\n",
    "cursor.fetchall()"
   ]
  },
  {
   "cell_type": "markdown",
   "id": "a7eefdab",
   "metadata": {},
   "source": [
    "### Query 13"
   ]
  },
  {
   "cell_type": "code",
   "execution_count": null,
   "id": "f8ebe149",
   "metadata": {},
   "outputs": [],
   "source": [
    "# Q13: Find the facilities usage by month, but not guests"
   ]
  },
  {
   "cell_type": "code",
   "execution_count": null,
   "id": "13745463",
   "metadata": {},
   "outputs": [],
   "source": [
    "query_thirteen = \"\"\"\n",
    "    SELECT b.months, COUNT( b.memid ) AS mem_usage\n",
    "    FROM (\n",
    "    SELECT strftime('%m',starttime) AS months, memid\n",
    "    FROM Bookings\n",
    "    WHERE memid !=0\n",
    "    ) AS b\n",
    "    GROUP BY b.months;\n",
    "\"\"\"\n",
    "cursor.execute(query_thirteen)\n",
    "cursor.fetchall()"
   ]
  },
  {
   "cell_type": "code",
   "execution_count": null,
   "id": "6eaebb43",
   "metadata": {},
   "outputs": [],
   "source": []
  }
 ],
 "metadata": {
  "kernelspec": {
   "display_name": "Python 3 (ipyflow)",
   "language": "python",
   "name": "ipyflow"
  },
  "language_info": {
   "codemirror_mode": {
    "name": "ipython",
    "version": 3
   },
   "file_extension": ".py",
   "mimetype": "text/x-python",
   "name": "python",
   "nbconvert_exporter": "python",
   "pygments_lexer": "ipython3",
   "version": "3.10.11"
  }
 },
 "nbformat": 4,
 "nbformat_minor": 5
}
